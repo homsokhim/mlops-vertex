{
 "cells": [
  {
   "cell_type": "code",
   "execution_count": 1,
   "id": "012e3b4a-91a6-4a4e-9091-cd87fb677652",
   "metadata": {
    "tags": []
   },
   "outputs": [],
   "source": [
    "REGOIN = 'us-central1'\n",
    "PEOJECT_ID = 'MLOps'"
   ]
  },
  {
   "cell_type": "code",
   "execution_count": 3,
   "id": "100994b7-f682-4055-9ff2-54863c9e299a",
   "metadata": {
    "tags": []
   },
   "outputs": [],
   "source": [
    "from google.cloud import storage\n",
    "from google.cloud import bigquery\n",
    "\n",
    "import pandas as pd\n",
    "from sklearn import datasets"
   ]
  },
  {
   "cell_type": "code",
   "execution_count": null,
   "id": "13237c19-f08c-481f-8ba6-a93bc358475f",
   "metadata": {},
   "outputs": [],
   "source": []
  }
 ],
 "metadata": {
  "environment": {
   "kernel": "python3",
   "name": "tf2-gpu.2-13.m113",
   "type": "gcloud",
   "uri": "gcr.io/deeplearning-platform-release/tf2-gpu.2-13:m113"
  },
  "kernelspec": {
   "display_name": "Python 3",
   "language": "python",
   "name": "python3"
  },
  "language_info": {
   "codemirror_mode": {
    "name": "ipython",
    "version": 3
   },
   "file_extension": ".py",
   "mimetype": "text/x-python",
   "name": "python",
   "nbconvert_exporter": "python",
   "pygments_lexer": "ipython3",
   "version": "3.10.13"
  },
  "toc-showcode": true
 },
 "nbformat": 4,
 "nbformat_minor": 5
}
